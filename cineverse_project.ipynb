{
 "cells": [
  {
   "cell_type": "code",
   "execution_count": 0,
   "metadata": {
    "application/vnd.databricks.v1+cell": {
     "cellMetadata": {
      "byteLimit": 2048000,
      "rowLimit": 10000
     },
     "inputWidgets": {},
     "nuid": "914201b4-2a9b-4803-a4a2-5abd260f639c",
     "showTitle": false,
     "tableResultSettingsMap": {},
     "title": ""
    }
   },
   "outputs": [],
   "source": [
    "client_id = dbutils.secrets.get(scope=\"movieverse-keyvault-scope\", key=\"clientid\")\n",
    "tenant_id = dbutils.secrets.get(scope=\"movieverse-keyvault-scope\", key=\"tenantid\")\n",
    "client_secret = dbutils.secrets.get(scope=\"movieverse-keyvault-scope\", key=\"secretvalue\")\n",
    "\n",
    "# Set configs\n",
    "configs = {\n",
    "  \"fs.azure.account.auth.type\": \"OAuth\",\n",
    "  \"fs.azure.account.oauth.provider.type\": \"org.apache.hadoop.fs.azurebfs.oauth2.ClientCredsTokenProvider\",\n",
    "  \"fs.azure.account.oauth2.client.id\": client_id,\n",
    "  \"fs.azure.account.oauth2.client.secret\": client_secret,\n",
    "  \"fs.azure.account.oauth2.client.endpoint\": f\"https://login.microsoftonline.com/{tenant_id}/oauth2/token\"\n",
    "}\n",
    "\n",
    "# Mount storage\n",
    "dbutils.fs.mount(\n",
    "  source = \"abfss://rawdata@movieversedata.dfs.core.windows.net/\",\n",
    "  mount_point = \"/mnt/moviedata\",\n",
    "  extra_configs = configs\n",
    ")\n"
   ]
  },
  {
   "cell_type": "code",
   "execution_count": 0,
   "metadata": {
    "application/vnd.databricks.v1+cell": {
     "cellMetadata": {
      "byteLimit": 2048000,
      "rowLimit": 10000
     },
     "inputWidgets": {},
     "nuid": "aa95e993-cbe3-44aa-bd39-a2e867f6f1d4",
     "showTitle": false,
     "tableResultSettingsMap": {},
     "title": ""
    }
   },
   "outputs": [],
   "source": [
    "dbutils.fs.mount(\n",
    "  source = \"abfss://bronze@movieversedata.dfs.core.windows.net/\",\n",
    "  mount_point = \"/mnt/bronze\",\n",
    "  extra_configs = configs\n",
    ")\n",
    "\n",
    "dbutils.fs.mount(\n",
    "  source = \"abfss://silver@movieversedata.dfs.core.windows.net/\",\n",
    "  mount_point = \"/mnt/silver\",\n",
    "  extra_configs = configs\n",
    ")\n",
    "\n",
    "dbutils.fs.mount(\n",
    "  source = \"abfss://gold@movieversedata.dfs.core.windows.net/\",\n",
    "  mount_point = \"/mnt/gold\",\n",
    "  extra_configs = configs\n",
    ")\n"
   ]
  },
  {
   "cell_type": "code",
   "execution_count": 0,
   "metadata": {
    "application/vnd.databricks.v1+cell": {
     "cellMetadata": {
      "byteLimit": 2048000,
      "rowLimit": 10000
     },
     "inputWidgets": {},
     "nuid": "27f49dc2-57fa-4402-8337-f6adc8569eff",
     "showTitle": false,
     "tableResultSettingsMap": {},
     "title": ""
    }
   },
   "outputs": [],
   "source": [
    "display(dbutils.fs.mounts())"
   ]
  },
  {
   "cell_type": "code",
   "execution_count": 0,
   "metadata": {
    "application/vnd.databricks.v1+cell": {
     "cellMetadata": {
      "byteLimit": 2048000,
      "rowLimit": 10000
     },
     "inputWidgets": {},
     "nuid": "d5891970-73ab-48e7-9380-8457c8a6c759",
     "showTitle": false,
     "tableResultSettingsMap": {},
     "title": ""
    }
   },
   "outputs": [],
   "source": [
    "\n",
    "# Read the CSV file\n",
    "\n",
    "df = spark.read.option(\"header\", \"true\") \\\n",
    "               .option(\"inferSchema\", \"true\") \\\n",
    "               .option(\"quote\", '\"') \\\n",
    "               .option(\"escape\", '\"') \\\n",
    "               .option(\"multiLine\", True) \\\n",
    "               .csv(\"/mnt/moviedata/raw\")\n",
    "\n",
    "display(df)"
   ]
  },
  {
   "cell_type": "code",
   "execution_count": 0,
   "metadata": {
    "application/vnd.databricks.v1+cell": {
     "cellMetadata": {
      "byteLimit": 2048000,
      "rowLimit": 10000
     },
     "inputWidgets": {},
     "nuid": "a1314aec-16ee-4c19-a403-a64707da2ff8",
     "showTitle": false,
     "tableResultSettingsMap": {},
     "title": ""
    }
   },
   "outputs": [],
   "source": [
    "print(df.count())\n",
    "\n",
    "print(df.columns)\n"
   ]
  },
  {
   "cell_type": "code",
   "execution_count": 0,
   "metadata": {
    "application/vnd.databricks.v1+cell": {
     "cellMetadata": {
      "byteLimit": 2048000,
      "rowLimit": 10000
     },
     "inputWidgets": {},
     "nuid": "1e1fe745-6c3b-4e2b-8865-308c52722e92",
     "showTitle": false,
     "tableResultSettingsMap": {},
     "title": ""
    }
   },
   "outputs": [],
   "source": [
    "df.write.format(\"delta\").mode(\"overwrite\").save(\"/mnt/bronze/raw_delta\")\n"
   ]
  },
  {
   "cell_type": "code",
   "execution_count": 0,
   "metadata": {
    "application/vnd.databricks.v1+cell": {
     "cellMetadata": {
      "byteLimit": 2048000,
      "rowLimit": 10000
     },
     "inputWidgets": {},
     "nuid": "85d8694d-4292-4dfa-be05-e2be76208334",
     "showTitle": false,
     "tableResultSettingsMap": {},
     "title": ""
    }
   },
   "outputs": [],
   "source": [
    "bronze_df = spark.read.format(\"delta\").load(\"/mnt/bronze/raw_delta\")\n",
    "display(bronze_df)"
   ]
  },
  {
   "cell_type": "code",
   "execution_count": 0,
   "metadata": {
    "application/vnd.databricks.v1+cell": {
     "cellMetadata": {
      "byteLimit": 2048000,
      "rowLimit": 10000
     },
     "inputWidgets": {},
     "nuid": "a65f3a1a-20ba-4b2a-bab3-5cfefd2512f4",
     "showTitle": false,
     "tableResultSettingsMap": {},
     "title": ""
    }
   },
   "outputs": [],
   "source": [
    "spark.sql(\"create schema if not exists bronze\");\n",
    "df.write.format(\"delta\").mode(\"overwrite\").saveAsTable(\"bronze.raw_data\")"
   ]
  },
  {
   "cell_type": "code",
   "execution_count": 0,
   "metadata": {
    "application/vnd.databricks.v1+cell": {
     "cellMetadata": {
      "byteLimit": 2048000,
      "rowLimit": 10000
     },
     "inputWidgets": {},
     "nuid": "949c3492-b9ae-4d7e-8b4d-0c46999e1bb4",
     "showTitle": false,
     "tableResultSettingsMap": {},
     "title": ""
    }
   },
   "outputs": [],
   "source": [
    "bronze_df.printSchema()"
   ]
  },
  {
   "cell_type": "markdown",
   "metadata": {
    "application/vnd.databricks.v1+cell": {
     "cellMetadata": {},
     "inputWidgets": {},
     "nuid": "128f28ad-00f4-4735-9e3a-20eb86dc2421",
     "showTitle": false,
     "tableResultSettingsMap": {},
     "title": ""
    }
   },
   "source": [
    "## Checking null values"
   ]
  },
  {
   "cell_type": "code",
   "execution_count": 0,
   "metadata": {
    "application/vnd.databricks.v1+cell": {
     "cellMetadata": {
      "byteLimit": 2048000,
      "rowLimit": 10000
     },
     "inputWidgets": {},
     "nuid": "11f3d020-d467-4e43-8dd5-36649053c581",
     "showTitle": false,
     "tableResultSettingsMap": {},
     "title": ""
    }
   },
   "outputs": [],
   "source": [
    "from pyspark.sql.functions import col, sum, when\n",
    "\n",
    "# Calculate null values per column\n",
    "null_counts = bronze_df.select([\n",
    "    sum(when(col(c).isNull(), 1).otherwise(0)).alias(c)\n",
    "    for c in bronze_df.columns\n",
    "])\n",
    "\n",
    "# Convert the result row to a dict and print each column's null count\n",
    "nulls_dict = null_counts.collect()[0].asDict()\n",
    "\n",
    "# Print in a clean format\n",
    "for col_name, null_count in nulls_dict.items():\n",
    "    print(f\"{col_name}: {null_count}\")\n"
   ]
  },
  {
   "cell_type": "markdown",
   "metadata": {
    "application/vnd.databricks.v1+cell": {
     "cellMetadata": {},
     "inputWidgets": {},
     "nuid": "27ccbf8a-ba0f-4b71-8b6f-45c16e523847",
     "showTitle": false,
     "tableResultSettingsMap": {},
     "title": ""
    }
   },
   "source": [
    "## Droping Columns"
   ]
  },
  {
   "cell_type": "code",
   "execution_count": 0,
   "metadata": {
    "application/vnd.databricks.v1+cell": {
     "cellMetadata": {
      "byteLimit": 2048000,
      "rowLimit": 10000
     },
     "inputWidgets": {},
     "nuid": "8889da4e-c350-46e1-a0dd-c06e922ebf2e",
     "showTitle": false,
     "tableResultSettingsMap": {},
     "title": ""
    }
   },
   "outputs": [],
   "source": [
    "from pyspark.sql import functions as F\n",
    "\n",
    "# Step 1: Load data from Bronze layer\n",
    "df = spark.read.format(\"delta\").load(\"/mnt/bronze/raw_delta\")\n",
    "\n",
    "# Step 2: Drop unnecessary columns\n",
    "cols_to_drop = [\n",
    "    \"status\", \"adult\", \"backdrop_path\", \"homepage\",\n",
    "    \"imdb_id\", \"overview\", \"poster_path\", \"tagline\", \"keywords\"\n",
    "]\n",
    "\n",
    "df_cleaned = df.drop(*cols_to_drop)\n",
    "df_cleaned = df_cleaned.withColumn(\"release_date\", F.to_date(\"release_date\", \"yyyy-MM-dd\")) \\\n",
    "                      .withColumn(\"release_year\", F.year(\"release_date\"))\n",
    "\n",
    "\n",
    "\n",
    "\n",
    "\n",
    "display(df_cleaned)"
   ]
  },
  {
   "cell_type": "code",
   "execution_count": 0,
   "metadata": {
    "application/vnd.databricks.v1+cell": {
     "cellMetadata": {
      "byteLimit": 2048000,
      "rowLimit": 10000
     },
     "inputWidgets": {},
     "nuid": "0e2ab61c-7bbd-4984-8c9c-cd643aeb841f",
     "showTitle": false,
     "tableResultSettingsMap": {},
     "title": ""
    }
   },
   "outputs": [],
   "source": [
    "from pyspark.sql.functions import col, sum, when\n",
    "\n",
    "# Calculate null values per column\n",
    "null_counts = df_cleaned.select([\n",
    "    sum(when(col(c).isNull(), 1).otherwise(0)).alias(c)\n",
    "    for c in df_cleaned.columns\n",
    "])\n",
    "\n",
    "# Convert the result row to a dict and print each column's null count\n",
    "nulls_dict = null_counts.collect()[0].asDict()\n",
    "\n",
    "# Print in a clean format\n",
    "for col_name, null_count in nulls_dict.items():\n",
    "    print(f\"{col_name}: {null_count}\")\n"
   ]
  },
  {
   "cell_type": "code",
   "execution_count": 0,
   "metadata": {
    "application/vnd.databricks.v1+cell": {
     "cellMetadata": {
      "byteLimit": 2048000,
      "rowLimit": 10000
     },
     "inputWidgets": {},
     "nuid": "cbfc502f-bb3f-49a5-abb0-203525c637c0",
     "showTitle": false,
     "tableResultSettingsMap": {},
     "title": ""
    }
   },
   "outputs": [],
   "source": [
    "columns_to_fill = [\"genres\", \"production_companies\", \"production_countries\", \"spoken_languages\"]\n",
    "\n",
    "# Step 5: Fill specified columns with mode\n",
    "for col_name in columns_to_fill:\n",
    "    # Calculate the mode\n",
    "    mode_row = df_cleaned.groupBy(col_name).count().orderBy(F.desc(\"count\")).first()\n",
    "    \n",
    "    if mode_row:\n",
    "        mode_value = mode_row[col_name]\n",
    "        # Replace nulls with mode\n",
    "        df_cleaned = df_cleaned.withColumn(\n",
    "            col_name,\n",
    "            F.when(F.col(col_name).isNull(), mode_value).otherwise(F.col(col_name))\n",
    "        )\n",
    "\n",
    "display(df_cleaned)\n"
   ]
  },
  {
   "cell_type": "code",
   "execution_count": 0,
   "metadata": {
    "application/vnd.databricks.v1+cell": {
     "cellMetadata": {
      "byteLimit": 2048000,
      "rowLimit": 10000
     },
     "inputWidgets": {},
     "nuid": "1b5072b7-cebc-4ab0-9c02-dd9394892d1a",
     "showTitle": false,
     "tableResultSettingsMap": {},
     "title": ""
    }
   },
   "outputs": [],
   "source": [
    "df_cleaned.count()"
   ]
  },
  {
   "cell_type": "code",
   "execution_count": 0,
   "metadata": {
    "application/vnd.databricks.v1+cell": {
     "cellMetadata": {
      "byteLimit": 2048000,
      "rowLimit": 10000
     },
     "inputWidgets": {},
     "nuid": "fe6bea6e-98c2-4e16-b259-9c1e7cb90597",
     "showTitle": false,
     "tableResultSettingsMap": {},
     "title": ""
    }
   },
   "outputs": [],
   "source": [
    "df_cleaned.columns"
   ]
  },
  {
   "cell_type": "code",
   "execution_count": 0,
   "metadata": {
    "application/vnd.databricks.v1+cell": {
     "cellMetadata": {
      "byteLimit": 2048000,
      "rowLimit": 10000
     },
     "inputWidgets": {},
     "nuid": "278b3b34-ad7a-498c-bb5b-8223ca4f5664",
     "showTitle": false,
     "tableResultSettingsMap": {},
     "title": ""
    }
   },
   "outputs": [],
   "source": [
    "df_cleaned.printSchema()"
   ]
  },
  {
   "cell_type": "code",
   "execution_count": 0,
   "metadata": {
    "application/vnd.databricks.v1+cell": {
     "cellMetadata": {
      "byteLimit": 2048000,
      "rowLimit": 10000
     },
     "inputWidgets": {},
     "nuid": "f3a384c4-4b83-41db-b1eb-0321600015e2",
     "showTitle": false,
     "tableResultSettingsMap": {},
     "title": ""
    }
   },
   "outputs": [],
   "source": [
    "df_cleaned.write.format(\"delta\").mode(\"overwrite\").save(\"/mnt/silver/\")\n",
    "display(df_cleaned)\n"
   ]
  },
  {
   "cell_type": "code",
   "execution_count": 0,
   "metadata": {
    "application/vnd.databricks.v1+cell": {
     "cellMetadata": {
      "byteLimit": 2048000,
      "rowLimit": 10000
     },
     "inputWidgets": {},
     "nuid": "7d272d3d-ecc9-4913-bfdd-3c853ec075d4",
     "showTitle": false,
     "tableResultSettingsMap": {},
     "title": ""
    }
   },
   "outputs": [],
   "source": [
    "# Create schema if not exists for silver layer\n",
    "spark.sql(\"CREATE SCHEMA IF NOT EXISTS silver\")\n",
    "\n",
    "# Write the cleaned DataFrame to the Silver Delta table\n",
    "df_cleaned.write \\\n",
    "    .format(\"delta\") \\\n",
    "    .mode(\"overwrite\") \\\n",
    "    .option(\"overwriteSchema\", \"true\") \\\n",
    "    .saveAsTable(\"silver.transformed_data\")\n"
   ]
  },
  {
   "cell_type": "code",
   "execution_count": 0,
   "metadata": {
    "application/vnd.databricks.v1+cell": {
     "cellMetadata": {
      "byteLimit": 2048000,
      "rowLimit": 10000
     },
     "inputWidgets": {},
     "nuid": "b526bbe5-44ad-4cf3-bcae-38cd4a0af51a",
     "showTitle": false,
     "tableResultSettingsMap": {
      "0": {
       "dataGridStateBlob": null,
       "filterBlob": "{\"filterGroups\":[],\"syncTimestamp\":1745671679920}",
       "queryPlanFiltersBlob": null,
       "tableResultIndex": 0
      }
     },
     "title": ""
    }
   },
   "outputs": [],
   "source": [
    "# Read data from the Silver Delta table\n",
    "silver_df = spark.read.format(\"delta\").table(\"silver.transformed_data\")\n",
    "\n",
    "# Display the data (optional)\n",
    "display(silver_df)\n",
    "\n"
   ]
  },
  {
   "cell_type": "code",
   "execution_count": 0,
   "metadata": {
    "application/vnd.databricks.v1+cell": {
     "cellMetadata": {
      "byteLimit": 2048000,
      "rowLimit": 10000
     },
     "inputWidgets": {},
     "nuid": "70d3c989-837d-4d1c-b9c7-3cf977cb9380",
     "showTitle": false,
     "tableResultSettingsMap": {},
     "title": ""
    }
   },
   "outputs": [],
   "source": [
    "silver_df_cleaned = silver_df.drop(\"spoken_languages\")\n",
    "display(silver_df_cleaned)"
   ]
  },
  {
   "cell_type": "code",
   "execution_count": 0,
   "metadata": {
    "application/vnd.databricks.v1+cell": {
     "cellMetadata": {
      "byteLimit": 2048000,
      "rowLimit": 10000
     },
     "inputWidgets": {},
     "nuid": "2f1c574a-88ae-41b0-a4c1-5f3fb7f3216a",
     "showTitle": false,
     "tableResultSettingsMap": {},
     "title": ""
    }
   },
   "outputs": [],
   "source": [
    "from pyspark.sql.functions import split\n",
    "\n",
    "# Split string to array\n",
    "silver_df_cleaned = silver_df_cleaned.withColumn('genres', split('genres', ',\\\\s*')) \\\n",
    "                                     .withColumn('production_companies', split('production_companies', ',\\\\s*')) \\\n",
    "                                     .withColumn('production_countries', split('production_countries', ',\\\\s*'))\n"
   ]
  },
  {
   "cell_type": "code",
   "execution_count": 0,
   "metadata": {
    "application/vnd.databricks.v1+cell": {
     "cellMetadata": {
      "byteLimit": 2048000,
      "rowLimit": 10000
     },
     "inputWidgets": {},
     "nuid": "40aaa5ea-8466-4a7b-aba3-ce65f5d141ea",
     "showTitle": false,
     "tableResultSettingsMap": {},
     "title": ""
    }
   },
   "outputs": [],
   "source": [
    "display(silver_df_cleaned)"
   ]
  },
  {
   "cell_type": "code",
   "execution_count": 0,
   "metadata": {
    "application/vnd.databricks.v1+cell": {
     "cellMetadata": {
      "byteLimit": 2048000,
      "rowLimit": 10000
     },
     "inputWidgets": {},
     "nuid": "ffd6c989-a6aa-4387-b51a-ce9e41c3fa23",
     "showTitle": false,
     "tableResultSettingsMap": {},
     "title": ""
    }
   },
   "outputs": [],
   "source": [
    "# Step 2: Explode first (no trim here yet)\n",
    "from pyspark.sql.functions import col,explode,trim\n",
    "\n",
    "genres_exploded = silver_df_cleaned.select('id', explode('genres').alias('genre_name_raw'))\n",
    "companies_exploded = silver_df_cleaned.select('id', explode('production_companies').alias('company_name_raw'))\n",
    "countries_exploded = silver_df_cleaned.select('id', explode('production_countries').alias('country_name_raw'))\n",
    "\n",
    "# Step 3: Now apply trim separately\n",
    "genres_exploded = genres_exploded.withColumn('genre_name', trim(col('genre_name_raw'))).drop('genre_name_raw')\n",
    "companies_exploded = companies_exploded.withColumn('company_name', trim(col('company_name_raw'))).drop('company_name_raw')\n",
    "countries_exploded = countries_exploded.withColumn('country_name', trim(col('country_name_raw'))).drop('country_name_raw')\n"
   ]
  },
  {
   "cell_type": "code",
   "execution_count": 0,
   "metadata": {
    "application/vnd.databricks.v1+cell": {
     "cellMetadata": {
      "byteLimit": 2048000,
      "rowLimit": 10000
     },
     "inputWidgets": {},
     "nuid": "d3fd5afc-0a4b-41a2-8250-65e604823107",
     "showTitle": false,
     "tableResultSettingsMap": {},
     "title": ""
    }
   },
   "outputs": [],
   "source": [
    "display(genres_exploded)\n",
    "display(companies_exploded)\n",
    "display(countries_exploded)"
   ]
  },
  {
   "cell_type": "code",
   "execution_count": 0,
   "metadata": {
    "application/vnd.databricks.v1+cell": {
     "cellMetadata": {
      "byteLimit": 2048000,
      "rowLimit": 10000
     },
     "inputWidgets": {},
     "nuid": "04facb6c-3ae5-497c-9269-399371082e49",
     "showTitle": false,
     "tableResultSettingsMap": {},
     "title": ""
    }
   },
   "outputs": [],
   "source": [
    "from pyspark.sql.functions import monotonically_increasing_id\n",
    "\n",
    "# Genre Dimension\n",
    "genres_dim = genres_exploded.select('genre_name').distinct() \\\n",
    "                            .withColumn('genre_id', monotonically_increasing_id())\n",
    "\n",
    "# Companies Dimension\n",
    "companies_dim = companies_exploded.select('company_name').distinct() \\\n",
    "                                  .withColumn('company_id', monotonically_increasing_id())\n",
    "\n",
    "# Countries Dimension\n",
    "countries_dim = countries_exploded.select('country_name').distinct() \\\n",
    "                                  .withColumn('country_id', monotonically_increasing_id())\n"
   ]
  },
  {
   "cell_type": "code",
   "execution_count": 0,
   "metadata": {
    "application/vnd.databricks.v1+cell": {
     "cellMetadata": {
      "byteLimit": 2048000,
      "rowLimit": 10000
     },
     "inputWidgets": {},
     "nuid": "f2b4c29a-84eb-45c1-a94c-d1c2b1a61e90",
     "showTitle": false,
     "tableResultSettingsMap": {},
     "title": ""
    }
   },
   "outputs": [],
   "source": [
    "display(genres_dim)\n",
    "display(companies_dim)\n",
    "display(countries_dim) "
   ]
  },
  {
   "cell_type": "code",
   "execution_count": 0,
   "metadata": {
    "application/vnd.databricks.v1+cell": {
     "cellMetadata": {
      "byteLimit": 2048000,
      "rowLimit": 10000
     },
     "inputWidgets": {},
     "nuid": "490638dc-b657-44e7-8ad8-ad8b419c9add",
     "showTitle": false,
     "tableResultSettingsMap": {},
     "title": ""
    }
   },
   "outputs": [],
   "source": [
    "# Movie-Genre Bridge\n",
    "movie_genres_bridge = genres_exploded.join(genres_dim, on='genre_name', how='inner') \\\n",
    "                                     .select('id', 'genre_id') \\\n",
    "                                     .withColumnRenamed('id', 'movie_id')\n",
    "\n",
    "# Movie-Company Bridge\n",
    "movie_companies_bridge = companies_exploded.join(companies_dim, on='company_name', how='inner') \\\n",
    "                                           .select('id', 'company_id') \\\n",
    "                                           .withColumnRenamed('id', 'movie_id')\n",
    "\n",
    "# Movie-Country Bridge\n",
    "movie_countries_bridge = countries_exploded.join(countries_dim, on='country_name', how='inner') \\\n",
    "                                           .select('id', 'country_id') \\\n",
    "                                           .withColumnRenamed('id', 'movie_id')\n"
   ]
  },
  {
   "cell_type": "code",
   "execution_count": 0,
   "metadata": {
    "application/vnd.databricks.v1+cell": {
     "cellMetadata": {
      "byteLimit": 2048000,
      "rowLimit": 10000
     },
     "inputWidgets": {},
     "nuid": "5e11e50e-1d20-408a-b5a3-04c71441f1a2",
     "showTitle": false,
     "tableResultSettingsMap": {},
     "title": ""
    }
   },
   "outputs": [],
   "source": [
    "display(movie_genres_bridge)\n",
    "display(movie_companies_bridge)\n",
    "display(movie_countries_bridge)"
   ]
  },
  {
   "cell_type": "code",
   "execution_count": 0,
   "metadata": {
    "application/vnd.databricks.v1+cell": {
     "cellMetadata": {
      "byteLimit": 2048000,
      "rowLimit": 10000
     },
     "inputWidgets": {},
     "nuid": "246924a2-6b60-4e23-98e5-e71a53d9de0e",
     "showTitle": false,
     "tableResultSettingsMap": {},
     "title": ""
    }
   },
   "outputs": [],
   "source": [
    "# Drop multi-valued columns from silver to create fact\n",
    "movies_fact = silver_df_cleaned.drop('genres', 'production_companies', 'production_countries')\n",
    "\n",
    "# Rename 'id' to 'movie_id'\n",
    "movies_fact = movies_fact.withColumnRenamed('id', 'movie_id')\n"
   ]
  },
  {
   "cell_type": "code",
   "execution_count": 0,
   "metadata": {
    "application/vnd.databricks.v1+cell": {
     "cellMetadata": {
      "byteLimit": 2048000,
      "rowLimit": 10000
     },
     "inputWidgets": {},
     "nuid": "ca15ee2d-ffcf-452e-b55d-fa1935803e2d",
     "showTitle": false,
     "tableResultSettingsMap": {},
     "title": ""
    }
   },
   "outputs": [],
   "source": [
    "# Save Fact Table\n",
    "movies_fact.write.format('delta').mode('overwrite').save('/mnt/gold/movies_fact')\n",
    "\n",
    "# Save Dimension Tables\n",
    "genres_dim.write.format('delta').mode('overwrite').save('/mnt/gold/genres_dim')\n",
    "companies_dim.write.format('delta').mode('overwrite').save('/mnt/gold/companies_dim')\n",
    "countries_dim.write.format('delta').mode('overwrite').save('/mnt/gold/countries_dim')\n",
    "\n",
    "# Save Bridge Tables\n",
    "movie_genres_bridge.write.format('delta').mode('overwrite').save('/mnt/gold/movie_genres_bridge')\n",
    "movie_companies_bridge.write.format('delta').mode('overwrite').save('/mnt/gold/movie_companies_bridge')\n",
    "movie_countries_bridge.write.format('delta').mode('overwrite').save('/mnt/gold/movie_countries_bridge')\n"
   ]
  },
  {
   "cell_type": "code",
   "execution_count": 0,
   "metadata": {
    "application/vnd.databricks.v1+cell": {
     "cellMetadata": {
      "byteLimit": 2048000,
      "rowLimit": 10000
     },
     "inputWidgets": {},
     "nuid": "59d231b6-d30e-4647-b109-687be2bf1e4f",
     "showTitle": false,
     "tableResultSettingsMap": {},
     "title": ""
    }
   },
   "outputs": [],
   "source": [
    "# 1. Create the Gold schema\n",
    "spark.sql(\"CREATE SCHEMA IF NOT EXISTS gold\")\n",
    "\n",
    "# 2. Write your cleaned tables to the Gold schema\n",
    "\n",
    "# Fact Table\n",
    "movies_fact.write.format(\"delta\").mode(\"overwrite\").saveAsTable(\"gold.movies_fact\")\n",
    "\n",
    "# Dimension Tables\n",
    "genres_dim.write.format(\"delta\").mode(\"overwrite\").saveAsTable(\"gold.genres_dim\")\n",
    "companies_dim.write.format(\"delta\").mode(\"overwrite\").saveAsTable(\"gold.companies_dim\")\n",
    "countries_dim.write.format(\"delta\").mode(\"overwrite\").saveAsTable(\"gold.countries_dim\")\n",
    "\n",
    "# Bridge Tables\n",
    "movie_genres_bridge.write.format(\"delta\").mode(\"overwrite\").saveAsTable(\"gold.movie_genres_bridge\")\n",
    "movie_companies_bridge.write.format(\"delta\").mode(\"overwrite\").saveAsTable(\"gold.movie_companies_bridge\")\n",
    "movie_countries_bridge.write.format(\"delta\").mode(\"overwrite\").saveAsTable(\"gold.movie_countries_bridge\")\n"
   ]
  },
  {
   "cell_type": "code",
   "execution_count": 0,
   "metadata": {
    "application/vnd.databricks.v1+cell": {
     "cellMetadata": {
      "byteLimit": 2048000,
      "rowLimit": 10000
     },
     "inputWidgets": {},
     "nuid": "8007281f-89bd-4f80-b4e2-7b6b27741f67",
     "showTitle": false,
     "tableResultSettingsMap": {},
     "title": ""
    }
   },
   "outputs": [],
   "source": [
    "display(movie_countries_bridge)\n",
    "display(movie_genres_bridge)\n",
    "display(movie_companies_bridge)\n",
    "display(movies_fact)\n",
    "display(genres_dim)\n",
    "display(companies_dim)"
   ]
  },
  {
   "cell_type": "code",
   "execution_count": 0,
   "metadata": {
    "application/vnd.databricks.v1+cell": {
     "cellMetadata": {
      "byteLimit": 2048000,
      "rowLimit": 10000
     },
     "inputWidgets": {},
     "nuid": "7a025548-a7a1-4caa-9a61-8832d28a80b3",
     "showTitle": false,
     "tableResultSettingsMap": {},
     "title": ""
    }
   },
   "outputs": [],
   "source": [
    "# Fact Table\n",
    "movies_fact_df = spark.read.table(\"gold.movies_fact\")\n",
    "\n",
    "# Dimension Tables\n",
    "genres_dim_df = spark.read.table(\"gold.genres_dim\")\n",
    "companies_dim_df = spark.read.table(\"gold.companies_dim\")\n",
    "countries_dim_df = spark.read.table(\"gold.countries_dim\")\n",
    "\n",
    "# Bridge Tables\n",
    "movie_genres_bridge_df = spark.read.table(\"gold.movie_genres_bridge\")\n",
    "movie_companies_bridge_df = spark.read.table(\"gold.movie_companies_bridge\")\n",
    "movie_countries_bridge_df = spark.read.table(\"gold.movie_countries_bridge\")\n"
   ]
  },
  {
   "cell_type": "markdown",
   "metadata": {
    "application/vnd.databricks.v1+cell": {
     "cellMetadata": {},
     "inputWidgets": {},
     "nuid": "d0d1136c-1123-4c9b-8393-7c94f7aa3957",
     "showTitle": false,
     "tableResultSettingsMap": {},
     "title": ""
    }
   },
   "source": [
    "## Top 10 Movies by Revenue"
   ]
  },
  {
   "cell_type": "code",
   "execution_count": 0,
   "metadata": {
    "application/vnd.databricks.v1+cell": {
     "cellMetadata": {
      "byteLimit": 2048000,
      "rowLimit": 10000
     },
     "inputWidgets": {},
     "nuid": "9cedb840-0b63-4ca9-9e17-d871dba096b6",
     "showTitle": false,
     "tableResultSettingsMap": {},
     "title": ""
    }
   },
   "outputs": [
    {
     "output_type": "display_data",
     "data": {
      "text/plain": [
       "Databricks visualization. Run in Databricks to view."
      ]
     },
     "metadata": {
      "application/vnd.databricks.v1.subcommand+json": {
       "baseErrorDetails": null,
       "bindings": {},
       "collapsed": false,
       "command": "%python\n__backend_agg_display_orig = display\n__backend_agg_dfs = []\ndef __backend_agg_display_new(df):\n    __backend_agg_df_modules = [\"pandas.core.frame\", \"databricks.koalas.frame\", \"pyspark.sql.dataframe\", \"pyspark.pandas.frame\", \"pyspark.sql.connect.dataframe\"]\n    if (type(df).__module__ in __backend_agg_df_modules and type(df).__name__ == 'DataFrame') or isinstance(df, list):\n        __backend_agg_dfs.append(df)\n\ndisplay = __backend_agg_display_new\n\ndef __backend_agg_user_code_fn():\n    import base64\n    exec(base64.standard_b64decode(\"dG9wX21vdmllcyA9IG1vdmllc19mYWN0X2RmLnNlbGVjdCgidGl0bGUiLCAicmV2ZW51ZSIpIFwKICAgIC5vcmRlckJ5KCJyZXZlbnVlIiwgYXNjZW5kaW5nPUZhbHNlKSBcCiAgICAubGltaXQoMTApCgpkaXNwbGF5KHRvcF9tb3ZpZXMpCg==\").decode())\n\ntry:\n    # run user code\n    __backend_agg_user_code_fn()\n\n    #reset display function\n    display = __backend_agg_display_orig\n\n    if len(__backend_agg_dfs) > 0:\n        # create a temp view\n        if type(__backend_agg_dfs[0]).__module__ == \"databricks.koalas.frame\":\n            # koalas dataframe\n            __backend_agg_dfs[0].to_spark().createOrReplaceTempView(\"DatabricksViewf8891f5\")\n        elif type(__backend_agg_dfs[0]).__module__ == \"pandas.core.frame\" or isinstance(__backend_agg_dfs[0], list):\n            # pandas dataframe\n            spark.createDataFrame(__backend_agg_dfs[0]).createOrReplaceTempView(\"DatabricksViewf8891f5\")\n        else:\n            __backend_agg_dfs[0].createOrReplaceTempView(\"DatabricksViewf8891f5\")\n        #run backend agg\n        display(spark.sql(\"\"\"WITH q AS (select * from DatabricksViewf8891f5) SELECT `title`,SUM(`revenue`) `column_f2b9d0d9566` FROM q GROUP BY `title`\"\"\"))\n    else:\n        displayHTML(\"dataframe no longer exists. If you're using dataframe.display(), use display(dataframe) instead.\")\n\n\nfinally:\n    spark.sql(\"drop view if exists DatabricksViewf8891f5\")\n    display = __backend_agg_display_orig\n    del __backend_agg_display_new\n    del __backend_agg_display_orig\n    del __backend_agg_dfs\n    del __backend_agg_user_code_fn\n\n",
       "commandTitle": "Visualization 1",
       "commandType": "auto",
       "commandVersion": 0,
       "commentThread": [],
       "commentsVisible": false,
       "contentSha256Hex": null,
       "customPlotOptions": {
        "redashChart": [
         {
          "key": "type",
          "value": "CHART"
         },
         {
          "key": "options",
          "value": {
           "alignYAxesAtZero": true,
           "coefficient": 1,
           "columnConfigurationMap": {
            "x": {
             "column": "title",
             "id": "column_f2b9d0d9565"
            },
            "y": [
             {
              "column": "revenue",
              "id": "column_f2b9d0d9566",
              "transform": "SUM"
             }
            ]
           },
           "dateTimeFormat": "DD/MM/YYYY HH:mm",
           "direction": {
            "type": "counterclockwise"
           },
           "error_y": {
            "type": "data",
            "visible": true
           },
           "globalSeriesType": "column",
           "isAggregationOn": true,
           "legend": {
            "traceorder": "normal"
           },
           "missingValuesAsZero": true,
           "numberFormat": "0,0.[00000]",
           "percentFormat": "0[.]00%",
           "series": {
            "error_y": {
             "type": "data",
             "visible": true
            },
            "stacking": null
           },
           "seriesOptions": {
            "column_f2b9d0d9566": {
             "color": "#077A9D",
             "name": "revenue",
             "yAxis": 0
            }
           },
           "showDataLabels": false,
           "sizemode": "diameter",
           "sortX": true,
           "sortY": true,
           "swappedAxes": true,
           "textFormat": "",
           "useAggregationsUi": true,
           "valuesOptions": {},
           "version": 2,
           "xAxis": {
            "labels": {
             "enabled": true
            },
            "type": "-"
           },
           "yAxis": [
            {
             "type": "-"
            },
            {
             "opposite": true,
             "type": "-"
            }
           ]
          }
         }
        ]
       },
       "datasetPreviewNameToCmdIdMap": {},
       "diffDeletes": [],
       "diffInserts": [],
       "displayType": "redashChart",
       "error": null,
       "errorDetails": null,
       "errorSummary": null,
       "errorTraceType": null,
       "finishTime": 0,
       "globalVars": {},
       "guid": "",
       "height": "auto",
       "hideCommandCode": false,
       "hideCommandResult": false,
       "iPythonMetadata": null,
       "inputWidgets": {},
       "isLockedInExamMode": false,
       "latestUser": "a user",
       "latestUserId": null,
       "listResultMetadata": null,
       "metadata": {},
       "nuid": "1252e587-9f85-466f-af6b-1282ba663612",
       "origId": 0,
       "parentHierarchy": [],
       "pivotAggregation": null,
       "pivotColumns": null,
       "position": 38.0,
       "resultDbfsErrorMessage": null,
       "resultDbfsStatus": "INLINED_IN_TREE",
       "results": null,
       "showCommandTitle": false,
       "startTime": 0,
       "state": "input",
       "streamStates": {},
       "subcommandOptions": {
        "queryPlan": {
         "groups": [
          {
           "column": "title",
           "type": "column"
          }
         ],
         "selects": [
          {
           "column": "title",
           "type": "column"
          },
          {
           "alias": "column_f2b9d0d9566",
           "args": [
            {
             "column": "revenue",
             "type": "column"
            }
           ],
           "function": "SUM",
           "type": "function"
          }
         ]
        }
       },
       "submitTime": 0,
       "subtype": "tableResultSubCmd.visualization",
       "tableResultIndex": 0,
       "tableResultSettingsMap": {},
       "useConsistentColors": false,
       "version": "CommandV1",
       "width": "auto",
       "workflows": null,
       "xColumns": null,
       "yColumns": null
      }
     },
     "output_type": "display_data"
    }
   ],
   "source": [
    "top_movies = movies_fact_df.select(\"title\", \"revenue\") \\\n",
    "    .orderBy(\"revenue\", ascending=False) \\\n",
    "    .limit(10)\n",
    "\n",
    "display(top_movies)\n"
   ]
  },
  {
   "cell_type": "markdown",
   "metadata": {
    "application/vnd.databricks.v1+cell": {
     "cellMetadata": {},
     "inputWidgets": {},
     "nuid": "ceb801be-b09b-4f3f-bb1f-6bbd5d9de953",
     "showTitle": false,
     "tableResultSettingsMap": {},
     "title": ""
    }
   },
   "source": [
    "## Average Revenue by Genre\n"
   ]
  },
  {
   "cell_type": "code",
   "execution_count": 0,
   "metadata": {
    "application/vnd.databricks.v1+cell": {
     "cellMetadata": {
      "byteLimit": 2048000,
      "rowLimit": 10000
     },
     "inputWidgets": {},
     "nuid": "cbdcdc47-42e2-40f2-a14e-a966f7511e18",
     "showTitle": false,
     "tableResultSettingsMap": {},
     "title": ""
    }
   },
   "outputs": [
    {
     "output_type": "display_data",
     "data": {
      "text/plain": [
       "Databricks visualization. Run in Databricks to view."
      ]
     },
     "metadata": {
      "application/vnd.databricks.v1.subcommand+json": {
       "baseErrorDetails": null,
       "bindings": {},
       "collapsed": false,
       "command": "%python\n__backend_agg_display_orig = display\n__backend_agg_dfs = []\ndef __backend_agg_display_new(df):\n    __backend_agg_df_modules = [\"pandas.core.frame\", \"databricks.koalas.frame\", \"pyspark.sql.dataframe\", \"pyspark.pandas.frame\", \"pyspark.sql.connect.dataframe\"]\n    if (type(df).__module__ in __backend_agg_df_modules and type(df).__name__ == 'DataFrame') or isinstance(df, list):\n        __backend_agg_dfs.append(df)\n\ndisplay = __backend_agg_display_new\n\ndef __backend_agg_user_code_fn():\n    import base64\n    exec(base64.standard_b64decode(\"ZnJvbSBweXNwYXJrLnNxbCBpbXBvcnQgZnVuY3Rpb25zIGFzIEYKCmF2Z19yZXZlbnVlX2J5X2dlbnJlID0gbW92aWVzX2ZhY3RfZGYuYWxpYXMoIm0iKSBcCiAgICAuam9pbihtb3ZpZV9nZW5yZXNfYnJpZGdlX2RmLmFsaWFzKCJtZyIpLCAibW92aWVfaWQiKSBcCiAgICAuam9pbihnZW5yZXNfZGltX2RmLmFsaWFzKCJnIiksICJnZW5yZV9pZCIpIFwKICAgIC5ncm91cEJ5KCJnLmdlbnJlX25hbWUiKSBcCiAgICAuYWdnKEYuYXZnKCJtLnJldmVudWUiKS5hbGlhcygiYXZlcmFnZV9yZXZlbnVlIikpIFwKICAgIC5vcmRlckJ5KEYuY29sKCJhdmVyYWdlX3JldmVudWUiKS5kZXNjKCkpIFwKICAgIC5saW1pdCgxMCkKCmRpc3BsYXkoYXZnX3JldmVudWVfYnlfZ2VucmUpCg==\").decode())\n\ntry:\n    # run user code\n    __backend_agg_user_code_fn()\n\n    #reset display function\n    display = __backend_agg_display_orig\n\n    if len(__backend_agg_dfs) > 0:\n        # create a temp view\n        if type(__backend_agg_dfs[0]).__module__ == \"databricks.koalas.frame\":\n            # koalas dataframe\n            __backend_agg_dfs[0].to_spark().createOrReplaceTempView(\"DatabricksView0c94d1d\")\n        elif type(__backend_agg_dfs[0]).__module__ == \"pandas.core.frame\" or isinstance(__backend_agg_dfs[0], list):\n            # pandas dataframe\n            spark.createDataFrame(__backend_agg_dfs[0]).createOrReplaceTempView(\"DatabricksView0c94d1d\")\n        else:\n            __backend_agg_dfs[0].createOrReplaceTempView(\"DatabricksView0c94d1d\")\n        #run backend agg\n        display(spark.sql(\"\"\"WITH q AS (select * from DatabricksView0c94d1d) SELECT `genre_name`,SUM(`average_revenue`) `column_f2b9d0d9575` FROM q GROUP BY `genre_name`\"\"\"))\n    else:\n        displayHTML(\"dataframe no longer exists. If you're using dataframe.display(), use display(dataframe) instead.\")\n\n\nfinally:\n    spark.sql(\"drop view if exists DatabricksView0c94d1d\")\n    display = __backend_agg_display_orig\n    del __backend_agg_display_new\n    del __backend_agg_display_orig\n    del __backend_agg_dfs\n    del __backend_agg_user_code_fn\n\n",
       "commandTitle": "Visualization 1",
       "commandType": "auto",
       "commandVersion": 0,
       "commentThread": [],
       "commentsVisible": false,
       "contentSha256Hex": null,
       "customPlotOptions": {
        "redashChart": [
         {
          "key": "type",
          "value": "CHART"
         },
         {
          "key": "options",
          "value": {
           "alignYAxesAtZero": true,
           "coefficient": 1,
           "columnConfigurationMap": {
            "x": {
             "column": "genre_name",
             "id": "column_f2b9d0d9574"
            },
            "y": [
             {
              "column": "average_revenue",
              "id": "column_f2b9d0d9575",
              "transform": "SUM"
             }
            ]
           },
           "dateTimeFormat": "DD/MM/YYYY HH:mm",
           "direction": {
            "type": "counterclockwise"
           },
           "error_y": {
            "type": "data",
            "visible": true
           },
           "globalSeriesType": "column",
           "isAggregationOn": true,
           "legend": {
            "traceorder": "normal"
           },
           "missingValuesAsZero": true,
           "numberFormat": "0,0.[00000]",
           "percentFormat": "0[.]00%",
           "series": {
            "error_y": {
             "type": "data",
             "visible": true
            },
            "stacking": null
           },
           "seriesOptions": {
            "column_f2b9d0d9575": {
             "color": "#00A972",
             "name": "average_revenue",
             "yAxis": 0
            }
           },
           "showDataLabels": false,
           "sizemode": "diameter",
           "sortX": true,
           "sortY": true,
           "swappedAxes": true,
           "textFormat": "",
           "useAggregationsUi": true,
           "valuesOptions": {},
           "version": 2,
           "xAxis": {
            "labels": {
             "enabled": true
            },
            "type": "-"
           },
           "yAxis": [
            {
             "type": "-"
            },
            {
             "opposite": true,
             "type": "-"
            }
           ]
          }
         }
        ]
       },
       "datasetPreviewNameToCmdIdMap": {},
       "diffDeletes": [],
       "diffInserts": [],
       "displayType": "redashChart",
       "error": null,
       "errorDetails": null,
       "errorSummary": null,
       "errorTraceType": null,
       "finishTime": 0,
       "globalVars": {},
       "guid": "",
       "height": "auto",
       "hideCommandCode": false,
       "hideCommandResult": false,
       "iPythonMetadata": null,
       "inputWidgets": {},
       "isLockedInExamMode": false,
       "latestUser": "a user",
       "latestUserId": null,
       "listResultMetadata": null,
       "metadata": {},
       "nuid": "649a7383-310d-482f-9136-b048d1b92658",
       "origId": 0,
       "parentHierarchy": [],
       "pivotAggregation": null,
       "pivotColumns": null,
       "position": 39.0,
       "resultDbfsErrorMessage": null,
       "resultDbfsStatus": "INLINED_IN_TREE",
       "results": null,
       "showCommandTitle": false,
       "startTime": 0,
       "state": "input",
       "streamStates": {},
       "subcommandOptions": {
        "queryPlan": {
         "groups": [
          {
           "column": "genre_name",
           "type": "column"
          }
         ],
         "selects": [
          {
           "column": "genre_name",
           "type": "column"
          },
          {
           "alias": "column_f2b9d0d9575",
           "args": [
            {
             "column": "average_revenue",
             "type": "column"
            }
           ],
           "function": "SUM",
           "type": "function"
          }
         ]
        }
       },
       "submitTime": 0,
       "subtype": "tableResultSubCmd.visualization",
       "tableResultIndex": 0,
       "tableResultSettingsMap": {},
       "useConsistentColors": false,
       "version": "CommandV1",
       "width": "auto",
       "workflows": null,
       "xColumns": null,
       "yColumns": null
      }
     },
     "output_type": "display_data"
    }
   ],
   "source": [
    "from pyspark.sql import functions as F\n",
    "\n",
    "avg_revenue_by_genre = movies_fact_df.alias(\"m\") \\\n",
    "    .join(movie_genres_bridge_df.alias(\"mg\"), \"movie_id\") \\\n",
    "    .join(genres_dim_df.alias(\"g\"), \"genre_id\") \\\n",
    "    .groupBy(\"g.genre_name\") \\\n",
    "    .agg(F.avg(\"m.revenue\").alias(\"average_revenue\")) \\\n",
    "    .orderBy(F.col(\"average_revenue\").desc()) \\\n",
    "    .limit(10)\n",
    "\n",
    "display(avg_revenue_by_genre)\n"
   ]
  },
  {
   "cell_type": "code",
   "execution_count": 0,
   "metadata": {
    "application/vnd.databricks.v1+cell": {
     "cellMetadata": {
      "byteLimit": 2048000,
      "rowLimit": 10000
     },
     "inputWidgets": {},
     "nuid": "5404e258-ef77-4bc3-8d95-ee2ac2cb4a1a",
     "showTitle": false,
     "tableResultSettingsMap": {},
     "title": ""
    }
   },
   "outputs": [],
   "source": [
    "top_companies = movies_fact_df.alias(\"m\") \\\n",
    "    .join(movie_companies_bridge_df.alias(\"mc\"), \"movie_id\") \\\n",
    "    .join(companies_dim_df.alias(\"c\"), \"company_id\") \\\n",
    "    .groupBy(\"c.company_name\") \\\n",
    "    .count() \\\n",
    "    .orderBy(\"count\", ascending=False) \\\n",
    "    .limit(10)\n",
    "\n",
    "display(top_companies)\n"
   ]
  },
  {
   "cell_type": "code",
   "execution_count": 0,
   "metadata": {
    "application/vnd.databricks.v1+cell": {
     "cellMetadata": {
      "byteLimit": 2048000,
      "rowLimit": 10000
     },
     "inputWidgets": {},
     "nuid": "8aa80d64-ea40-4995-a1cf-f920f3923f8a",
     "showTitle": false,
     "tableResultSettingsMap": {},
     "title": ""
    }
   },
   "outputs": [
    {
     "output_type": "display_data",
     "data": {
      "text/plain": [
       "Databricks visualization. Run in Databricks to view."
      ]
     },
     "metadata": {
      "application/vnd.databricks.v1.subcommand+json": {
       "baseErrorDetails": null,
       "bindings": {},
       "collapsed": false,
       "command": "%python\n__backend_agg_display_orig = display\n__backend_agg_dfs = []\ndef __backend_agg_display_new(df):\n    __backend_agg_df_modules = [\"pandas.core.frame\", \"databricks.koalas.frame\", \"pyspark.sql.dataframe\", \"pyspark.pandas.frame\", \"pyspark.sql.connect.dataframe\"]\n    if (type(df).__module__ in __backend_agg_df_modules and type(df).__name__ == 'DataFrame') or isinstance(df, list):\n        __backend_agg_dfs.append(df)\n\ndisplay = __backend_agg_display_new\n\ndef __backend_agg_user_code_fn():\n    import base64\n    exec(base64.standard_b64decode(\"IyA177iP4oOjIEJ1ZGdldCB2cyBSZXZlbnVlIChTY2F0dGVyKQpidWRnZXRfdnNfcmV2ZW51ZSA9IHNwYXJrLnNxbCgiIiIKICBTRUxFQ1QKICAgIHRpdGxlLAogICAgYnVkZ2V0LAogICAgcmV2ZW51ZQogIEZST00gZ29sZC5tb3ZpZXNfZmFjdAogIFdIRVJFIGJ1ZGdldCBJUyBOT1QgTlVMTCBBTkQgcmV2ZW51ZSBJUyBOT1QgTlVMTAogIE9SREVSIEJZIHJldmVudWUgREVTQwogIExJTUlUIDEwCiIiIikKZGlzcGxheShidWRnZXRfdnNfcmV2ZW51ZSkgICMg4oaSIENob29zZSBTY2F0dGVyIENoYXJ0IChYPWJ1ZGdldCwgWT1yZXZlbnVlLCBEZXRhaWxzPXRpdGxlKQo=\").decode())\n\ntry:\n    # run user code\n    __backend_agg_user_code_fn()\n\n    #reset display function\n    display = __backend_agg_display_orig\n\n    if len(__backend_agg_dfs) > 0:\n        # create a temp view\n        if type(__backend_agg_dfs[0]).__module__ == \"databricks.koalas.frame\":\n            # koalas dataframe\n            __backend_agg_dfs[0].to_spark().createOrReplaceTempView(\"DatabricksViewe21877c\")\n        elif type(__backend_agg_dfs[0]).__module__ == \"pandas.core.frame\" or isinstance(__backend_agg_dfs[0], list):\n            # pandas dataframe\n            spark.createDataFrame(__backend_agg_dfs[0]).createOrReplaceTempView(\"DatabricksViewe21877c\")\n        else:\n            __backend_agg_dfs[0].createOrReplaceTempView(\"DatabricksViewe21877c\")\n        #run backend agg\n        display(spark.sql(\"\"\"WITH q AS (select * from DatabricksViewe21877c) SELECT `budget`,`revenue`,`title` FROM q\"\"\"))\n    else:\n        displayHTML(\"dataframe no longer exists. If you're using dataframe.display(), use display(dataframe) instead.\")\n\n\nfinally:\n    spark.sql(\"drop view if exists DatabricksViewe21877c\")\n    display = __backend_agg_display_orig\n    del __backend_agg_display_new\n    del __backend_agg_display_orig\n    del __backend_agg_dfs\n    del __backend_agg_user_code_fn\n\n",
       "commandTitle": "Visualization 1",
       "commandType": "auto",
       "commandVersion": 0,
       "commentThread": [],
       "commentsVisible": false,
       "contentSha256Hex": null,
       "customPlotOptions": {
        "redashChart": [
         {
          "key": "type",
          "value": "CHART"
         },
         {
          "key": "options",
          "value": {
           "alignYAxesAtZero": true,
           "coefficient": 1,
           "columnConfigurationMap": {
            "series": {
             "column": "title",
             "id": "column_19022996154"
            },
            "x": {
             "column": "budget",
             "id": "column_19022996152"
            },
            "y": [
             {
              "column": "revenue",
              "id": "column_19022996153"
             }
            ]
           },
           "dateTimeFormat": "DD/MM/YYYY HH:mm",
           "direction": {
            "type": "counterclockwise"
           },
           "error_y": {
            "type": "data",
            "visible": true
           },
           "globalSeriesType": "scatter",
           "legend": {
            "traceorder": "normal"
           },
           "missingValuesAsZero": true,
           "numberFormat": "0,0.[00000]",
           "percentFormat": "0[.]00%",
           "series": {
            "error_y": {
             "type": "data",
             "visible": true
            },
            "stacking": null
           },
           "seriesOptions": {
            "column_19022996153": {
             "name": "revenue",
             "yAxis": 0
            }
           },
           "showDataLabels": false,
           "sizemode": "diameter",
           "sortX": true,
           "sortY": true,
           "swappedAxes": false,
           "textFormat": "",
           "useAggregationsUi": true,
           "valuesOptions": {},
           "version": 2,
           "xAxis": {
            "labels": {
             "enabled": true
            },
            "type": "-"
           },
           "yAxis": [
            {
             "type": "-"
            },
            {
             "opposite": true,
             "type": "-"
            }
           ]
          }
         }
        ]
       },
       "datasetPreviewNameToCmdIdMap": {},
       "diffDeletes": [],
       "diffInserts": [],
       "displayType": "redashChart",
       "error": null,
       "errorDetails": null,
       "errorSummary": null,
       "errorTraceType": null,
       "finishTime": 0,
       "globalVars": {},
       "guid": "",
       "height": "auto",
       "hideCommandCode": false,
       "hideCommandResult": false,
       "iPythonMetadata": null,
       "inputWidgets": {},
       "isLockedInExamMode": false,
       "latestUser": "a user",
       "latestUserId": null,
       "listResultMetadata": null,
       "metadata": {},
       "nuid": "1f47f65e-360d-4036-a25c-940a127dbe88",
       "origId": 0,
       "parentHierarchy": [],
       "pivotAggregation": null,
       "pivotColumns": null,
       "position": 42.0,
       "resultDbfsErrorMessage": null,
       "resultDbfsStatus": "INLINED_IN_TREE",
       "results": null,
       "showCommandTitle": false,
       "startTime": 0,
       "state": "input",
       "streamStates": {},
       "subcommandOptions": {
        "queryPlan": {
         "selects": [
          {
           "column": "budget",
           "type": "column"
          },
          {
           "column": "revenue",
           "type": "column"
          },
          {
           "column": "title",
           "type": "column"
          }
         ]
        }
       },
       "submitTime": 0,
       "subtype": "tableResultSubCmd.visualization",
       "tableResultIndex": 0,
       "tableResultSettingsMap": {},
       "useConsistentColors": false,
       "version": "CommandV1",
       "width": "auto",
       "workflows": null,
       "xColumns": null,
       "yColumns": null
      }
     },
     "output_type": "display_data"
    }
   ],
   "source": [
    "#  Budget vs Revenue (Scatter)\n",
    "budget_vs_revenue = spark.sql(\"\"\"\n",
    "  SELECT\n",
    "    title,\n",
    "    budget,\n",
    "    revenue\n",
    "  FROM gold.movies_fact\n",
    "  WHERE budget IS NOT NULL AND revenue IS NOT NULL\n",
    "  ORDER BY revenue DESC\n",
    "  LIMIT 10\n",
    "\"\"\")\n",
    "display(budget_vs_revenue)  # → Choose Scatter Chart (X=budget, Y=revenue, Details=title)\n"
   ]
  },
  {
   "cell_type": "code",
   "execution_count": 0,
   "metadata": {
    "application/vnd.databricks.v1+cell": {
     "cellMetadata": {
      "byteLimit": 2048000,
      "rowLimit": 10000
     },
     "inputWidgets": {},
     "nuid": "cbf8413e-554e-43cb-911f-688fa12537fe",
     "showTitle": false,
     "tableResultSettingsMap": {},
     "title": ""
    }
   },
   "outputs": [
    {
     "output_type": "display_data",
     "data": {
      "text/plain": [
       "Databricks visualization. Run in Databricks to view."
      ]
     },
     "metadata": {
      "application/vnd.databricks.v1.subcommand+json": {
       "baseErrorDetails": null,
       "bindings": {},
       "collapsed": false,
       "command": "%python\n__backend_agg_display_orig = display\n__backend_agg_dfs = []\ndef __backend_agg_display_new(df):\n    __backend_agg_df_modules = [\"pandas.core.frame\", \"databricks.koalas.frame\", \"pyspark.sql.dataframe\", \"pyspark.pandas.frame\", \"pyspark.sql.connect.dataframe\"]\n    if (type(df).__module__ in __backend_agg_df_modules and type(df).__name__ == 'DataFrame') or isinstance(df, list):\n        __backend_agg_dfs.append(df)\n\ndisplay = __backend_agg_display_new\n\ndef __backend_agg_user_code_fn():\n    import base64\n    exec(base64.standard_b64decode(\"ZmxvcF9tb3ZpZXMgPSBzcGFyay5zcWwoIiIiCiAgU0VMRUNUCiAgICB0aXRsZSwKICAgIGJ1ZGdldCwKICAgIHJldmVudWUKICBGUk9NIGdvbGQubW92aWVzX2ZhY3QKICBXSEVSRSBidWRnZXQgPiByZXZlbnVlCiAgT1JERVIgQlkgYnVkZ2V0IERFU0MKICBMSU1JVCAxMAoiIiIpCmRpc3BsYXkoZmxvcF9tb3ZpZXMpICAjIOKGkiBDaG9vc2UgVGFibGUgb3IgQmFyIENoYXJ0IChYPXRpdGxlLCBZPWJ1ZGdldCwgWT1yZXZlbnVlKQo=\").decode())\n\ntry:\n    # run user code\n    __backend_agg_user_code_fn()\n\n    #reset display function\n    display = __backend_agg_display_orig\n\n    if len(__backend_agg_dfs) > 0:\n        # create a temp view\n        if type(__backend_agg_dfs[0]).__module__ == \"databricks.koalas.frame\":\n            # koalas dataframe\n            __backend_agg_dfs[0].to_spark().createOrReplaceTempView(\"DatabricksViewf873d3b\")\n        elif type(__backend_agg_dfs[0]).__module__ == \"pandas.core.frame\" or isinstance(__backend_agg_dfs[0], list):\n            # pandas dataframe\n            spark.createDataFrame(__backend_agg_dfs[0]).createOrReplaceTempView(\"DatabricksViewf873d3b\")\n        else:\n            __backend_agg_dfs[0].createOrReplaceTempView(\"DatabricksViewf873d3b\")\n        #run backend agg\n        display(spark.sql(\"\"\"WITH q AS (select * from DatabricksViewf873d3b) SELECT `budget`,`revenue`,`title` FROM q\"\"\"))\n    else:\n        displayHTML(\"dataframe no longer exists. If you're using dataframe.display(), use display(dataframe) instead.\")\n\n\nfinally:\n    spark.sql(\"drop view if exists DatabricksViewf873d3b\")\n    display = __backend_agg_display_orig\n    del __backend_agg_display_new\n    del __backend_agg_display_orig\n    del __backend_agg_dfs\n    del __backend_agg_user_code_fn\n\n",
       "commandTitle": "Visualization 1",
       "commandType": "auto",
       "commandVersion": 0,
       "commentThread": [],
       "commentsVisible": false,
       "contentSha256Hex": null,
       "customPlotOptions": {
        "redashChart": [
         {
          "key": "type",
          "value": "CHART"
         },
         {
          "key": "options",
          "value": {
           "alignYAxesAtZero": true,
           "coefficient": 1,
           "columnConfigurationMap": {
            "series": {
             "column": "title",
             "id": "column_19022996160"
            },
            "x": {
             "column": "budget",
             "id": "column_19022996158"
            },
            "y": [
             {
              "column": "revenue",
              "id": "column_19022996159"
             }
            ]
           },
           "dateTimeFormat": "DD/MM/YYYY HH:mm",
           "direction": {
            "type": "counterclockwise"
           },
           "error_y": {
            "type": "data",
            "visible": true
           },
           "globalSeriesType": "scatter",
           "legend": {
            "traceorder": "normal"
           },
           "missingValuesAsZero": true,
           "numberFormat": "0,0.[00000]",
           "percentFormat": "0[.]00%",
           "series": {
            "error_y": {
             "type": "data",
             "visible": true
            },
            "stacking": null
           },
           "seriesOptions": {
            "column_19022996159": {
             "name": "revenue",
             "type": "scatter",
             "yAxis": 0
            },
            "revenue": {
             "name": "revenue",
             "type": "scatter",
             "yAxis": 0
            }
           },
           "showDataLabels": false,
           "sizemode": "diameter",
           "sortX": true,
           "sortY": true,
           "swappedAxes": false,
           "textFormat": "",
           "useAggregationsUi": true,
           "valuesOptions": {},
           "version": 2,
           "xAxis": {
            "labels": {
             "enabled": true
            },
            "type": "-"
           },
           "yAxis": [
            {
             "type": "-"
            },
            {
             "opposite": true,
             "type": "-"
            }
           ]
          }
         }
        ]
       },
       "datasetPreviewNameToCmdIdMap": {},
       "diffDeletes": [],
       "diffInserts": [],
       "displayType": "redashChart",
       "error": null,
       "errorDetails": null,
       "errorSummary": null,
       "errorTraceType": null,
       "finishTime": 0,
       "globalVars": {},
       "guid": "",
       "height": "auto",
       "hideCommandCode": false,
       "hideCommandResult": false,
       "iPythonMetadata": null,
       "inputWidgets": {},
       "isLockedInExamMode": false,
       "latestUser": "a user",
       "latestUserId": null,
       "listResultMetadata": null,
       "metadata": {},
       "nuid": "1dc27024-b01d-43b8-b25e-b371d68cfcdb",
       "origId": 0,
       "parentHierarchy": [],
       "pivotAggregation": null,
       "pivotColumns": null,
       "position": 43.0,
       "resultDbfsErrorMessage": null,
       "resultDbfsStatus": "INLINED_IN_TREE",
       "results": null,
       "showCommandTitle": false,
       "startTime": 0,
       "state": "input",
       "streamStates": {},
       "subcommandOptions": {
        "queryPlan": {
         "selects": [
          {
           "column": "budget",
           "type": "column"
          },
          {
           "column": "revenue",
           "type": "column"
          },
          {
           "column": "title",
           "type": "column"
          }
         ]
        }
       },
       "submitTime": 0,
       "subtype": "tableResultSubCmd.visualization",
       "tableResultIndex": 0,
       "tableResultSettingsMap": {},
       "useConsistentColors": false,
       "version": "CommandV1",
       "width": "auto",
       "workflows": null,
       "xColumns": null,
       "yColumns": null
      }
     },
     "output_type": "display_data"
    }
   ],
   "source": [
    "flop_movies = spark.sql(\"\"\"\n",
    "  SELECT\n",
    "    title,\n",
    "    budget,\n",
    "    revenue\n",
    "  FROM gold.movies_fact\n",
    "  WHERE budget > revenue\n",
    "  ORDER BY budget DESC\n",
    "  LIMIT 10\n",
    "\"\"\")\n",
    "display(flop_movies)  # → Choose Table or Bar Chart (X=title, Y=budget, Y=revenue)\n"
   ]
  },
  {
   "cell_type": "code",
   "execution_count": 0,
   "metadata": {
    "application/vnd.databricks.v1+cell": {
     "cellMetadata": {
      "byteLimit": 2048000,
      "rowLimit": 10000
     },
     "inputWidgets": {},
     "nuid": "72edb75a-b252-49ab-86a0-8501e3302291",
     "showTitle": false,
     "tableResultSettingsMap": {},
     "title": ""
    }
   },
   "outputs": [
    {
     "output_type": "display_data",
     "data": {
      "text/plain": [
       "Databricks visualization. Run in Databricks to view."
      ]
     },
     "metadata": {
      "application/vnd.databricks.v1.subcommand+json": {
       "baseErrorDetails": null,
       "bindings": {},
       "collapsed": false,
       "command": "%python\n__backend_agg_display_orig = display\n__backend_agg_dfs = []\ndef __backend_agg_display_new(df):\n    __backend_agg_df_modules = [\"pandas.core.frame\", \"databricks.koalas.frame\", \"pyspark.sql.dataframe\", \"pyspark.pandas.frame\", \"pyspark.sql.connect.dataframe\"]\n    if (type(df).__module__ in __backend_agg_df_modules and type(df).__name__ == 'DataFrame') or isinstance(df, list):\n        __backend_agg_dfs.append(df)\n\ndisplay = __backend_agg_display_new\n\ndef __backend_agg_user_code_fn():\n    import base64\n    exec(base64.standard_b64decode(\"dG9wX2NvdW50cmllc19ieV9yZXZlbnVlID0gc3Bhcmsuc3FsKCIiIgogIFNFTEVDVAogICAgYy5jb3VudHJ5X25hbWUsCiAgICBTVU0oZi5yZXZlbnVlKSBBUyB0b3RhbF9yZXZlbnVlCiAgRlJPTSBnb2xkLm1vdmllc19mYWN0IGYKICBKT0lOIGdvbGQubW92aWVfY291bnRyaWVzX2JyaWRnZSBtY2IgT04gZi5tb3ZpZV9pZCA9IG1jYi5tb3ZpZV9pZAogIEpPSU4gZ29sZC5jb3VudHJpZXNfZGltIGMgICAgICAgICAgICAgICBPTiBtY2IuY291bnRyeV9pZCA9IGMuY291bnRyeV9pZAogIEdST1VQIEJZIGMuY291bnRyeV9uYW1lCiAgT1JERVIgQlkgdG90YWxfcmV2ZW51ZSBERVNDCiAgTElNSVQgNQoiIiIpCmRpc3BsYXkodG9wX2NvdW50cmllc19ieV9yZXZlbnVlKSAgIyDihpIgQ2hvb3NlIEJhci9Db2x1bW4gQ2hhcnQgKFg9Y291bnRyeV9uYW1lLCBZPXRvdGFsX3JldmVudWUpCg==\").decode())\n\ntry:\n    # run user code\n    __backend_agg_user_code_fn()\n\n    #reset display function\n    display = __backend_agg_display_orig\n\n    if len(__backend_agg_dfs) > 0:\n        # create a temp view\n        if type(__backend_agg_dfs[0]).__module__ == \"databricks.koalas.frame\":\n            # koalas dataframe\n            __backend_agg_dfs[0].to_spark().createOrReplaceTempView(\"DatabricksView6b8f9cc\")\n        elif type(__backend_agg_dfs[0]).__module__ == \"pandas.core.frame\" or isinstance(__backend_agg_dfs[0], list):\n            # pandas dataframe\n            spark.createDataFrame(__backend_agg_dfs[0]).createOrReplaceTempView(\"DatabricksView6b8f9cc\")\n        else:\n            __backend_agg_dfs[0].createOrReplaceTempView(\"DatabricksView6b8f9cc\")\n        #run backend agg\n        display(spark.sql(\"\"\"WITH q AS (select * from DatabricksView6b8f9cc) SELECT `country_name`,SUM(`total_revenue`) `column_19022996167` FROM q GROUP BY `country_name`\"\"\"))\n    else:\n        displayHTML(\"dataframe no longer exists. If you're using dataframe.display(), use display(dataframe) instead.\")\n\n\nfinally:\n    spark.sql(\"drop view if exists DatabricksView6b8f9cc\")\n    display = __backend_agg_display_orig\n    del __backend_agg_display_new\n    del __backend_agg_display_orig\n    del __backend_agg_dfs\n    del __backend_agg_user_code_fn\n\n",
       "commandTitle": "Visualization 1",
       "commandType": "auto",
       "commandVersion": 0,
       "commentThread": [],
       "commentsVisible": false,
       "contentSha256Hex": null,
       "customPlotOptions": {
        "redashChart": [
         {
          "key": "type",
          "value": "CHART"
         },
         {
          "key": "options",
          "value": {
           "alignYAxesAtZero": true,
           "coefficient": 1,
           "columnConfigurationMap": {
            "x": {
             "column": "country_name",
             "id": "column_19022996166"
            },
            "y": [
             {
              "column": "total_revenue",
              "id": "column_19022996167",
              "transform": "SUM"
             }
            ]
           },
           "dateTimeFormat": "DD/MM/YYYY HH:mm",
           "direction": {
            "type": "counterclockwise"
           },
           "error_y": {
            "type": "data",
            "visible": true
           },
           "globalSeriesType": "column",
           "legend": {
            "traceorder": "normal"
           },
           "missingValuesAsZero": true,
           "numberFormat": "0,0.[00000]",
           "percentFormat": "0[.]00%",
           "series": {
            "error_y": {
             "type": "data",
             "visible": true
            },
            "stacking": null
           },
           "seriesOptions": {
            "column_19022996167": {
             "name": "total_revenue",
             "type": "column",
             "yAxis": 0
            }
           },
           "showDataLabels": false,
           "sizemode": "diameter",
           "sortX": true,
           "sortY": true,
           "swappedAxes": false,
           "textFormat": "",
           "useAggregationsUi": true,
           "valuesOptions": {},
           "version": 2,
           "xAxis": {
            "labels": {
             "enabled": true
            },
            "type": "-"
           },
           "yAxis": [
            {
             "type": "-"
            },
            {
             "opposite": true,
             "type": "-"
            }
           ]
          }
         }
        ]
       },
       "datasetPreviewNameToCmdIdMap": {},
       "diffDeletes": [],
       "diffInserts": [],
       "displayType": "redashChart",
       "error": null,
       "errorDetails": null,
       "errorSummary": null,
       "errorTraceType": null,
       "finishTime": 0,
       "globalVars": {},
       "guid": "",
       "height": "auto",
       "hideCommandCode": false,
       "hideCommandResult": false,
       "iPythonMetadata": null,
       "inputWidgets": {},
       "isLockedInExamMode": false,
       "latestUser": "a user",
       "latestUserId": null,
       "listResultMetadata": null,
       "metadata": {},
       "nuid": "48abea2e-ebc1-4cf2-ad55-3e45b7562b1e",
       "origId": 0,
       "parentHierarchy": [],
       "pivotAggregation": null,
       "pivotColumns": null,
       "position": 44.0,
       "resultDbfsErrorMessage": null,
       "resultDbfsStatus": "INLINED_IN_TREE",
       "results": null,
       "showCommandTitle": false,
       "startTime": 0,
       "state": "input",
       "streamStates": {},
       "subcommandOptions": {
        "queryPlan": {
         "groups": [
          {
           "column": "country_name",
           "type": "column"
          }
         ],
         "selects": [
          {
           "column": "country_name",
           "type": "column"
          },
          {
           "alias": "column_19022996167",
           "args": [
            {
             "column": "total_revenue",
             "type": "column"
            }
           ],
           "function": "SUM",
           "type": "function"
          }
         ]
        }
       },
       "submitTime": 0,
       "subtype": "tableResultSubCmd.visualization",
       "tableResultIndex": 0,
       "tableResultSettingsMap": {},
       "useConsistentColors": false,
       "version": "CommandV1",
       "width": "auto",
       "workflows": null,
       "xColumns": null,
       "yColumns": null
      }
     },
     "output_type": "display_data"
    }
   ],
   "source": [
    "# Top 5 Countries by Movie Revenue\n",
    "top_countries_by_revenue = spark.sql(\"\"\"\n",
    "  SELECT\n",
    "    c.country_name,\n",
    "    SUM(f.revenue) AS total_revenue\n",
    "  FROM gold.movies_fact f\n",
    "  JOIN gold.movie_countries_bridge mcb ON f.movie_id = mcb.movie_id\n",
    "  JOIN gold.countries_dim c               ON mcb.country_id = c.country_id\n",
    "  GROUP BY c.country_name\n",
    "  ORDER BY total_revenue DESC\n",
    "  LIMIT 5\n",
    "\"\"\")\n",
    "display(top_countries_by_revenue)  # → Choose Bar/Column Chart (X=country_name, Y=total_revenue)\n"
   ]
  },
  {
   "cell_type": "code",
   "execution_count": 0,
   "metadata": {
    "application/vnd.databricks.v1+cell": {
     "cellMetadata": {
      "byteLimit": 2048000,
      "rowLimit": 10000
     },
     "inputWidgets": {},
     "nuid": "d70827eb-e02e-4288-b981-f39e5f4d250b",
     "showTitle": false,
     "tableResultSettingsMap": {},
     "title": ""
    }
   },
   "outputs": [
    {
     "output_type": "display_data",
     "data": {
      "text/plain": [
       "Databricks visualization. Run in Databricks to view."
      ]
     },
     "metadata": {
      "application/vnd.databricks.v1.subcommand+json": {
       "baseErrorDetails": null,
       "bindings": {},
       "collapsed": false,
       "command": "%python\n__backend_agg_display_orig = display\n__backend_agg_dfs = []\ndef __backend_agg_display_new(df):\n    __backend_agg_df_modules = [\"pandas.core.frame\", \"databricks.koalas.frame\", \"pyspark.sql.dataframe\", \"pyspark.pandas.frame\", \"pyspark.sql.connect.dataframe\"]\n    if (type(df).__module__ in __backend_agg_df_modules and type(df).__name__ == 'DataFrame') or isinstance(df, list):\n        __backend_agg_dfs.append(df)\n\ndisplay = __backend_agg_display_new\n\ndef __backend_agg_user_code_fn():\n    import base64\n    exec(base64.standard_b64decode(\"I1RvcCA1IE1vdmllcyB3aXRoIEhpZ2hlc3QgVm90ZSBDb3VudAp0b3Bfdm90ZWRfbW92aWVzID0gc3Bhcmsuc3FsKCIiIgogIFNFTEVDVAogICAgdGl0bGUsCiAgICB2b3RlX2NvdW50CiAgRlJPTSBnb2xkLm1vdmllc19mYWN0CiAgT1JERVIgQlkgdm90ZV9jb3VudCBERVNDCiAgTElNSVQgNQoiIiIpCmRpc3BsYXkodG9wX3ZvdGVkX21vdmllcykgICMg4oaSIENob29zZSBCYXIvQ29sdW1uIENoYXJ0IChYPXRpdGxlLCBZPXZvdGVfY291bnQpCg==\").decode())\n\ntry:\n    # run user code\n    __backend_agg_user_code_fn()\n\n    #reset display function\n    display = __backend_agg_display_orig\n\n    if len(__backend_agg_dfs) > 0:\n        # create a temp view\n        if type(__backend_agg_dfs[0]).__module__ == \"databricks.koalas.frame\":\n            # koalas dataframe\n            __backend_agg_dfs[0].to_spark().createOrReplaceTempView(\"DatabricksViewba7d313\")\n        elif type(__backend_agg_dfs[0]).__module__ == \"pandas.core.frame\" or isinstance(__backend_agg_dfs[0], list):\n            # pandas dataframe\n            spark.createDataFrame(__backend_agg_dfs[0]).createOrReplaceTempView(\"DatabricksViewba7d313\")\n        else:\n            __backend_agg_dfs[0].createOrReplaceTempView(\"DatabricksViewba7d313\")\n        #run backend agg\n        display(spark.sql(\"\"\"WITH q AS (select * from DatabricksViewba7d313) SELECT `title`,SUM(`vote_count`) `column_19022996182` FROM q GROUP BY `title`\"\"\"))\n    else:\n        displayHTML(\"dataframe no longer exists. If you're using dataframe.display(), use display(dataframe) instead.\")\n\n\nfinally:\n    spark.sql(\"drop view if exists DatabricksViewba7d313\")\n    display = __backend_agg_display_orig\n    del __backend_agg_display_new\n    del __backend_agg_display_orig\n    del __backend_agg_dfs\n    del __backend_agg_user_code_fn\n\n",
       "commandTitle": "Visualization 1",
       "commandType": "auto",
       "commandVersion": 0,
       "commentThread": [],
       "commentsVisible": false,
       "contentSha256Hex": null,
       "customPlotOptions": {
        "redashChart": [
         {
          "key": "type",
          "value": "CHART"
         },
         {
          "key": "options",
          "value": {
           "alignYAxesAtZero": true,
           "coefficient": 1,
           "columnConfigurationMap": {
            "x": {
             "column": "title",
             "id": "column_19022996181"
            },
            "y": [
             {
              "column": "vote_count",
              "id": "column_19022996182",
              "transform": "SUM"
             }
            ]
           },
           "dateTimeFormat": "DD/MM/YYYY HH:mm",
           "direction": {
            "type": "counterclockwise"
           },
           "error_y": {
            "type": "data",
            "visible": true
           },
           "globalSeriesType": "column",
           "isAggregationOn": true,
           "legend": {
            "traceorder": "normal"
           },
           "missingValuesAsZero": true,
           "numberFormat": "0,0.[00000]",
           "percentFormat": "0[.]00%",
           "series": {
            "error_y": {
             "type": "data",
             "visible": true
            },
            "stacking": null
           },
           "seriesOptions": {
            "column_19022996182": {
             "color": "#00A972",
             "name": "vote_count",
             "yAxis": 0
            }
           },
           "showDataLabels": false,
           "sizemode": "diameter",
           "sortX": true,
           "sortY": true,
           "swappedAxes": true,
           "textFormat": "",
           "useAggregationsUi": true,
           "valuesOptions": {},
           "version": 2,
           "xAxis": {
            "labels": {
             "enabled": true
            },
            "type": "-"
           },
           "yAxis": [
            {
             "type": "-"
            },
            {
             "opposite": true,
             "type": "-"
            }
           ]
          }
         }
        ]
       },
       "datasetPreviewNameToCmdIdMap": {},
       "diffDeletes": [],
       "diffInserts": [],
       "displayType": "redashChart",
       "error": null,
       "errorDetails": null,
       "errorSummary": null,
       "errorTraceType": null,
       "finishTime": 0,
       "globalVars": {},
       "guid": "",
       "height": "auto",
       "hideCommandCode": false,
       "hideCommandResult": false,
       "iPythonMetadata": null,
       "inputWidgets": {},
       "isLockedInExamMode": false,
       "latestUser": "a user",
       "latestUserId": null,
       "listResultMetadata": null,
       "metadata": {},
       "nuid": "373d1c8a-37e9-49ce-bd18-e82dff1a190c",
       "origId": 0,
       "parentHierarchy": [],
       "pivotAggregation": null,
       "pivotColumns": null,
       "position": 45.0,
       "resultDbfsErrorMessage": null,
       "resultDbfsStatus": "INLINED_IN_TREE",
       "results": null,
       "showCommandTitle": false,
       "startTime": 0,
       "state": "input",
       "streamStates": {},
       "subcommandOptions": {
        "queryPlan": {
         "groups": [
          {
           "column": "title",
           "type": "column"
          }
         ],
         "selects": [
          {
           "column": "title",
           "type": "column"
          },
          {
           "alias": "column_19022996182",
           "args": [
            {
             "column": "vote_count",
             "type": "column"
            }
           ],
           "function": "SUM",
           "type": "function"
          }
         ]
        }
       },
       "submitTime": 0,
       "subtype": "tableResultSubCmd.visualization",
       "tableResultIndex": 0,
       "tableResultSettingsMap": {},
       "useConsistentColors": false,
       "version": "CommandV1",
       "width": "auto",
       "workflows": null,
       "xColumns": null,
       "yColumns": null
      }
     },
     "output_type": "display_data"
    }
   ],
   "source": [
    "#Top 5 Movies with Highest Vote Count\n",
    "top_voted_movies = spark.sql(\"\"\"\n",
    "  SELECT\n",
    "    title,\n",
    "    vote_count\n",
    "  FROM gold.movies_fact\n",
    "  ORDER BY vote_count DESC\n",
    "  LIMIT 5\n",
    "\"\"\")\n",
    "display(top_voted_movies)  # → Choose Bar/Column Chart (X=title, Y=vote_count)\n"
   ]
  },
  {
   "cell_type": "code",
   "execution_count": 0,
   "metadata": {
    "application/vnd.databricks.v1+cell": {
     "cellMetadata": {},
     "inputWidgets": {},
     "nuid": "a53cbe30-df08-4b19-bc0e-440566a55885",
     "showTitle": false,
     "tableResultSettingsMap": {},
     "title": ""
    }
   },
   "outputs": [],
   "source": []
  }
 ],
 "metadata": {
  "application/vnd.databricks.v1+notebook": {
   "computePreferences": null,
   "dashboards": [],
   "environmentMetadata": {
    "base_environment": "",
    "environment_version": "2"
   },
   "inputWidgetPreferences": null,
   "language": "python",
   "notebookMetadata": {
    "pythonIndentUnit": 4
   },
   "notebookName": "cineverse_project",
   "widgets": {}
  },
  "language_info": {
   "name": "python"
  }
 },
 "nbformat": 4,
 "nbformat_minor": 0
}
